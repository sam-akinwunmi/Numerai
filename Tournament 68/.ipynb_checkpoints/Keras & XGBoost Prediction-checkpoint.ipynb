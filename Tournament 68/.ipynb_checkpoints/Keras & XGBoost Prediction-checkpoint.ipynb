{
 "cells": [
  {
   "cell_type": "code",
   "execution_count": 82,
   "metadata": {
    "collapsed": false
   },
   "outputs": [],
   "source": [
    "import pandas as pd\n",
    "import numpy as np\n",
    "from keras.models import Sequential\n",
    "from keras.layers import Dense, Dropout\n",
    "from keras.wrappers.scikit_learn import KerasClassifier\n",
    "from sklearn.metrics import accuracy_score\n",
    "from sklearn.metrics import log_loss\n",
    "\n",
    "seed = 1234\n",
    "np.random.seed(seed)"
   ]
  },
  {
   "cell_type": "code",
   "execution_count": 5,
   "metadata": {
    "collapsed": false
   },
   "outputs": [
    {
     "data": {
      "text/html": [
       "<div>\n",
       "<style>\n",
       "    .dataframe thead tr:only-child th {\n",
       "        text-align: right;\n",
       "    }\n",
       "\n",
       "    .dataframe thead th {\n",
       "        text-align: left;\n",
       "    }\n",
       "\n",
       "    .dataframe tbody tr th {\n",
       "        vertical-align: top;\n",
       "    }\n",
       "</style>\n",
       "<table border=\"1\" class=\"dataframe\">\n",
       "  <thead>\n",
       "    <tr style=\"text-align: right;\">\n",
       "      <th></th>\n",
       "      <th>id</th>\n",
       "      <th>era</th>\n",
       "      <th>data_type</th>\n",
       "      <th>feature1</th>\n",
       "      <th>feature2</th>\n",
       "      <th>feature3</th>\n",
       "      <th>feature4</th>\n",
       "      <th>feature5</th>\n",
       "      <th>feature6</th>\n",
       "      <th>feature7</th>\n",
       "      <th>...</th>\n",
       "      <th>feature13</th>\n",
       "      <th>feature14</th>\n",
       "      <th>feature15</th>\n",
       "      <th>feature16</th>\n",
       "      <th>feature17</th>\n",
       "      <th>feature18</th>\n",
       "      <th>feature19</th>\n",
       "      <th>feature20</th>\n",
       "      <th>feature21</th>\n",
       "      <th>target</th>\n",
       "    </tr>\n",
       "  </thead>\n",
       "  <tbody>\n",
       "    <tr>\n",
       "      <th>0</th>\n",
       "      <td>119763</td>\n",
       "      <td>era1</td>\n",
       "      <td>train</td>\n",
       "      <td>0.28305</td>\n",
       "      <td>0.52361</td>\n",
       "      <td>0.69209</td>\n",
       "      <td>0.44205</td>\n",
       "      <td>0.43505</td>\n",
       "      <td>0.76235</td>\n",
       "      <td>0.31014</td>\n",
       "      <td>...</td>\n",
       "      <td>0.30291</td>\n",
       "      <td>0.56754</td>\n",
       "      <td>0.41035</td>\n",
       "      <td>0.30540</td>\n",
       "      <td>0.70217</td>\n",
       "      <td>0.67645</td>\n",
       "      <td>0.33197</td>\n",
       "      <td>0.62004</td>\n",
       "      <td>0.40567</td>\n",
       "      <td>0</td>\n",
       "    </tr>\n",
       "    <tr>\n",
       "      <th>1</th>\n",
       "      <td>45906</td>\n",
       "      <td>era1</td>\n",
       "      <td>train</td>\n",
       "      <td>0.72306</td>\n",
       "      <td>0.55033</td>\n",
       "      <td>0.39225</td>\n",
       "      <td>0.63030</td>\n",
       "      <td>0.56429</td>\n",
       "      <td>0.33871</td>\n",
       "      <td>0.48310</td>\n",
       "      <td>...</td>\n",
       "      <td>0.63850</td>\n",
       "      <td>0.44519</td>\n",
       "      <td>0.40625</td>\n",
       "      <td>0.63020</td>\n",
       "      <td>0.36515</td>\n",
       "      <td>0.39648</td>\n",
       "      <td>0.49776</td>\n",
       "      <td>0.37858</td>\n",
       "      <td>0.41617</td>\n",
       "      <td>1</td>\n",
       "    </tr>\n",
       "    <tr>\n",
       "      <th>2</th>\n",
       "      <td>139896</td>\n",
       "      <td>era1</td>\n",
       "      <td>train</td>\n",
       "      <td>0.29881</td>\n",
       "      <td>0.48360</td>\n",
       "      <td>0.74775</td>\n",
       "      <td>0.35139</td>\n",
       "      <td>0.34590</td>\n",
       "      <td>0.59046</td>\n",
       "      <td>0.47939</td>\n",
       "      <td>...</td>\n",
       "      <td>0.25399</td>\n",
       "      <td>0.69524</td>\n",
       "      <td>0.54931</td>\n",
       "      <td>0.24025</td>\n",
       "      <td>0.73879</td>\n",
       "      <td>0.74283</td>\n",
       "      <td>0.46221</td>\n",
       "      <td>0.61501</td>\n",
       "      <td>0.44855</td>\n",
       "      <td>0</td>\n",
       "    </tr>\n",
       "    <tr>\n",
       "      <th>3</th>\n",
       "      <td>116826</td>\n",
       "      <td>era1</td>\n",
       "      <td>train</td>\n",
       "      <td>0.51999</td>\n",
       "      <td>0.62361</td>\n",
       "      <td>0.55290</td>\n",
       "      <td>0.53790</td>\n",
       "      <td>0.45459</td>\n",
       "      <td>0.48424</td>\n",
       "      <td>0.55901</td>\n",
       "      <td>...</td>\n",
       "      <td>0.45956</td>\n",
       "      <td>0.64501</td>\n",
       "      <td>0.63455</td>\n",
       "      <td>0.41849</td>\n",
       "      <td>0.53119</td>\n",
       "      <td>0.54691</td>\n",
       "      <td>0.58776</td>\n",
       "      <td>0.39615</td>\n",
       "      <td>0.32122</td>\n",
       "      <td>1</td>\n",
       "    </tr>\n",
       "    <tr>\n",
       "      <th>4</th>\n",
       "      <td>28656</td>\n",
       "      <td>era1</td>\n",
       "      <td>train</td>\n",
       "      <td>0.47968</td>\n",
       "      <td>0.56531</td>\n",
       "      <td>0.58870</td>\n",
       "      <td>0.44709</td>\n",
       "      <td>0.43121</td>\n",
       "      <td>0.48611</td>\n",
       "      <td>0.53326</td>\n",
       "      <td>...</td>\n",
       "      <td>0.41466</td>\n",
       "      <td>0.63677</td>\n",
       "      <td>0.53184</td>\n",
       "      <td>0.41226</td>\n",
       "      <td>0.57170</td>\n",
       "      <td>0.60222</td>\n",
       "      <td>0.48431</td>\n",
       "      <td>0.50111</td>\n",
       "      <td>0.40677</td>\n",
       "      <td>1</td>\n",
       "    </tr>\n",
       "  </tbody>\n",
       "</table>\n",
       "<p>5 rows × 25 columns</p>\n",
       "</div>"
      ],
      "text/plain": [
       "       id   era data_type  feature1  feature2  feature3  feature4  feature5  \\\n",
       "0  119763  era1     train   0.28305   0.52361   0.69209   0.44205   0.43505   \n",
       "1   45906  era1     train   0.72306   0.55033   0.39225   0.63030   0.56429   \n",
       "2  139896  era1     train   0.29881   0.48360   0.74775   0.35139   0.34590   \n",
       "3  116826  era1     train   0.51999   0.62361   0.55290   0.53790   0.45459   \n",
       "4   28656  era1     train   0.47968   0.56531   0.58870   0.44709   0.43121   \n",
       "\n",
       "   feature6  feature7   ...    feature13  feature14  feature15  feature16  \\\n",
       "0   0.76235   0.31014   ...      0.30291    0.56754    0.41035    0.30540   \n",
       "1   0.33871   0.48310   ...      0.63850    0.44519    0.40625    0.63020   \n",
       "2   0.59046   0.47939   ...      0.25399    0.69524    0.54931    0.24025   \n",
       "3   0.48424   0.55901   ...      0.45956    0.64501    0.63455    0.41849   \n",
       "4   0.48611   0.53326   ...      0.41466    0.63677    0.53184    0.41226   \n",
       "\n",
       "   feature17  feature18  feature19  feature20  feature21  target  \n",
       "0    0.70217    0.67645    0.33197    0.62004    0.40567       0  \n",
       "1    0.36515    0.39648    0.49776    0.37858    0.41617       1  \n",
       "2    0.73879    0.74283    0.46221    0.61501    0.44855       0  \n",
       "3    0.53119    0.54691    0.58776    0.39615    0.32122       1  \n",
       "4    0.57170    0.60222    0.48431    0.50111    0.40677       1  \n",
       "\n",
       "[5 rows x 25 columns]"
      ]
     },
     "execution_count": 5,
     "metadata": {},
     "output_type": "execute_result"
    }
   ],
   "source": [
    "df = pd.read_csv(\"numerai_training_data.csv\")\n",
    "df.head()"
   ]
  },
  {
   "cell_type": "code",
   "execution_count": 6,
   "metadata": {
    "collapsed": false
   },
   "outputs": [
    {
     "data": {
      "text/html": [
       "<div>\n",
       "<style>\n",
       "    .dataframe thead tr:only-child th {\n",
       "        text-align: right;\n",
       "    }\n",
       "\n",
       "    .dataframe thead th {\n",
       "        text-align: left;\n",
       "    }\n",
       "\n",
       "    .dataframe tbody tr th {\n",
       "        vertical-align: top;\n",
       "    }\n",
       "</style>\n",
       "<table border=\"1\" class=\"dataframe\">\n",
       "  <thead>\n",
       "    <tr style=\"text-align: right;\">\n",
       "      <th></th>\n",
       "      <th>id</th>\n",
       "      <th>era</th>\n",
       "      <th>data_type</th>\n",
       "      <th>feature1</th>\n",
       "      <th>feature2</th>\n",
       "      <th>feature3</th>\n",
       "      <th>feature4</th>\n",
       "      <th>feature5</th>\n",
       "      <th>feature6</th>\n",
       "      <th>feature7</th>\n",
       "      <th>...</th>\n",
       "      <th>feature13</th>\n",
       "      <th>feature14</th>\n",
       "      <th>feature15</th>\n",
       "      <th>feature16</th>\n",
       "      <th>feature17</th>\n",
       "      <th>feature18</th>\n",
       "      <th>feature19</th>\n",
       "      <th>feature20</th>\n",
       "      <th>feature21</th>\n",
       "      <th>target</th>\n",
       "    </tr>\n",
       "  </thead>\n",
       "  <tbody>\n",
       "    <tr>\n",
       "      <th>0</th>\n",
       "      <td>55113</td>\n",
       "      <td>era97</td>\n",
       "      <td>validation</td>\n",
       "      <td>0.56211</td>\n",
       "      <td>0.48552</td>\n",
       "      <td>0.61290</td>\n",
       "      <td>0.39826</td>\n",
       "      <td>0.37009</td>\n",
       "      <td>0.41959</td>\n",
       "      <td>0.67384</td>\n",
       "      <td>...</td>\n",
       "      <td>0.42825</td>\n",
       "      <td>0.70212</td>\n",
       "      <td>0.60207</td>\n",
       "      <td>0.41624</td>\n",
       "      <td>0.56321</td>\n",
       "      <td>0.62616</td>\n",
       "      <td>0.62193</td>\n",
       "      <td>0.49730</td>\n",
       "      <td>0.51432</td>\n",
       "      <td>1.0</td>\n",
       "    </tr>\n",
       "    <tr>\n",
       "      <th>1</th>\n",
       "      <td>9835</td>\n",
       "      <td>era97</td>\n",
       "      <td>validation</td>\n",
       "      <td>0.50865</td>\n",
       "      <td>0.60490</td>\n",
       "      <td>0.52614</td>\n",
       "      <td>0.53751</td>\n",
       "      <td>0.51433</td>\n",
       "      <td>0.66610</td>\n",
       "      <td>0.43490</td>\n",
       "      <td>...</td>\n",
       "      <td>0.48310</td>\n",
       "      <td>0.53141</td>\n",
       "      <td>0.46809</td>\n",
       "      <td>0.46428</td>\n",
       "      <td>0.51586</td>\n",
       "      <td>0.52340</td>\n",
       "      <td>0.43596</td>\n",
       "      <td>0.47253</td>\n",
       "      <td>0.38056</td>\n",
       "      <td>1.0</td>\n",
       "    </tr>\n",
       "    <tr>\n",
       "      <th>2</th>\n",
       "      <td>150614</td>\n",
       "      <td>era97</td>\n",
       "      <td>validation</td>\n",
       "      <td>0.50124</td>\n",
       "      <td>0.46113</td>\n",
       "      <td>0.60613</td>\n",
       "      <td>0.43473</td>\n",
       "      <td>0.42881</td>\n",
       "      <td>0.52306</td>\n",
       "      <td>0.49339</td>\n",
       "      <td>...</td>\n",
       "      <td>0.42181</td>\n",
       "      <td>0.57629</td>\n",
       "      <td>0.44828</td>\n",
       "      <td>0.41719</td>\n",
       "      <td>0.58024</td>\n",
       "      <td>0.60782</td>\n",
       "      <td>0.46928</td>\n",
       "      <td>0.55603</td>\n",
       "      <td>0.51480</td>\n",
       "      <td>1.0</td>\n",
       "    </tr>\n",
       "    <tr>\n",
       "      <th>3</th>\n",
       "      <td>80064</td>\n",
       "      <td>era97</td>\n",
       "      <td>validation</td>\n",
       "      <td>0.42507</td>\n",
       "      <td>0.43184</td>\n",
       "      <td>0.67858</td>\n",
       "      <td>0.33142</td>\n",
       "      <td>0.36523</td>\n",
       "      <td>0.48837</td>\n",
       "      <td>0.52327</td>\n",
       "      <td>...</td>\n",
       "      <td>0.33598</td>\n",
       "      <td>0.64555</td>\n",
       "      <td>0.44551</td>\n",
       "      <td>0.35940</td>\n",
       "      <td>0.65535</td>\n",
       "      <td>0.69759</td>\n",
       "      <td>0.42920</td>\n",
       "      <td>0.63423</td>\n",
       "      <td>0.55336</td>\n",
       "      <td>0.0</td>\n",
       "    </tr>\n",
       "    <tr>\n",
       "      <th>4</th>\n",
       "      <td>116911</td>\n",
       "      <td>era97</td>\n",
       "      <td>validation</td>\n",
       "      <td>0.45803</td>\n",
       "      <td>0.60370</td>\n",
       "      <td>0.49455</td>\n",
       "      <td>0.57237</td>\n",
       "      <td>0.59102</td>\n",
       "      <td>0.66634</td>\n",
       "      <td>0.26381</td>\n",
       "      <td>...</td>\n",
       "      <td>0.48764</td>\n",
       "      <td>0.41904</td>\n",
       "      <td>0.34250</td>\n",
       "      <td>0.46747</td>\n",
       "      <td>0.51608</td>\n",
       "      <td>0.48878</td>\n",
       "      <td>0.31060</td>\n",
       "      <td>0.50326</td>\n",
       "      <td>0.33420</td>\n",
       "      <td>0.0</td>\n",
       "    </tr>\n",
       "  </tbody>\n",
       "</table>\n",
       "<p>5 rows × 25 columns</p>\n",
       "</div>"
      ],
      "text/plain": [
       "       id    era   data_type  feature1  feature2  feature3  feature4  \\\n",
       "0   55113  era97  validation   0.56211   0.48552   0.61290   0.39826   \n",
       "1    9835  era97  validation   0.50865   0.60490   0.52614   0.53751   \n",
       "2  150614  era97  validation   0.50124   0.46113   0.60613   0.43473   \n",
       "3   80064  era97  validation   0.42507   0.43184   0.67858   0.33142   \n",
       "4  116911  era97  validation   0.45803   0.60370   0.49455   0.57237   \n",
       "\n",
       "   feature5  feature6  feature7   ...    feature13  feature14  feature15  \\\n",
       "0   0.37009   0.41959   0.67384   ...      0.42825    0.70212    0.60207   \n",
       "1   0.51433   0.66610   0.43490   ...      0.48310    0.53141    0.46809   \n",
       "2   0.42881   0.52306   0.49339   ...      0.42181    0.57629    0.44828   \n",
       "3   0.36523   0.48837   0.52327   ...      0.33598    0.64555    0.44551   \n",
       "4   0.59102   0.66634   0.26381   ...      0.48764    0.41904    0.34250   \n",
       "\n",
       "   feature16  feature17  feature18  feature19  feature20  feature21  target  \n",
       "0    0.41624    0.56321    0.62616    0.62193    0.49730    0.51432     1.0  \n",
       "1    0.46428    0.51586    0.52340    0.43596    0.47253    0.38056     1.0  \n",
       "2    0.41719    0.58024    0.60782    0.46928    0.55603    0.51480     1.0  \n",
       "3    0.35940    0.65535    0.69759    0.42920    0.63423    0.55336     0.0  \n",
       "4    0.46747    0.51608    0.48878    0.31060    0.50326    0.33420     0.0  \n",
       "\n",
       "[5 rows x 25 columns]"
      ]
     },
     "execution_count": 6,
     "metadata": {},
     "output_type": "execute_result"
    }
   ],
   "source": [
    "df_test = pd.read_csv(\"numerai_tournament_data.csv\")\n",
    "df_test.head()"
   ]
  },
  {
   "cell_type": "code",
   "execution_count": 7,
   "metadata": {
    "collapsed": false
   },
   "outputs": [],
   "source": [
    "features = [f for f in list(df) if \"feature\" in f]\n",
    "\n",
    "X = df[features]\n",
    "Y = df[\"target\"]\n",
    "\n",
    "x_crossval = df_test[features].loc[df_test[\"data_type\"] == \"validation\"]\n",
    "id_crossval = df_test[\"target\"].loc[df_test[\"data_type\"] == \"validation\"]\n",
    "\n",
    "x_test = df_test[features].loc[df_test[\"data_type\"] == \"test\"]\n",
    "\n",
    "x_live = df_test[features].loc[df_test[\"data_type\"] == \"live\"]\n",
    "\n",
    "x_predict = df_test[features]\n",
    "ids = df_test[\"id\"]"
   ]
  },
  {
   "cell_type": "code",
   "execution_count": 8,
   "metadata": {
    "collapsed": false,
    "scrolled": true
   },
   "outputs": [],
   "source": [
    "def create_model():\n",
    "    # create model\n",
    "    model = Sequential()\n",
    "    model.add(Dense(64, input_dim=21, activation='relu'))\n",
    "    model.add(Dropout(0.25))\n",
    "    model.add(Dense(64, input_dim=21, activation='relu'))\n",
    "    model.add(Dropout(0.25))\n",
    "    model.add(Dense(1, activation='sigmoid'))\n",
    "    # Compile model\n",
    "    model.compile(loss='binary_crossentropy',\n",
    "                  optimizer='adam',\n",
    "                  metrics=['accuracy'])\n",
    "    return model\n",
    "\n",
    "model = KerasClassifier(build_fn=create_model, batch_size=512, epochs=20, verbose=0)"
   ]
  },
  {
   "cell_type": "code",
   "execution_count": null,
   "metadata": {
    "collapsed": false,
    "scrolled": true
   },
   "outputs": [],
   "source": [
    "model.fit(X.as_matrix(), Y)"
   ]
  },
  {
   "cell_type": "code",
   "execution_count": 100,
   "metadata": {
    "collapsed": false
   },
   "outputs": [
    {
     "name": "stdout",
     "output_type": "stream",
     "text": [
      "Accuracy: 51.48%\n",
      "Logloss: 0.692560\n"
     ]
    }
   ],
   "source": [
    "predictions = model.predict(x_crossval.as_matrix())\n",
    "predictions_probability = model.predict_proba(x_crossval.as_matrix())\n",
    "accuracy = accuracy_score(id_crossval, predictions)\n",
    "print(\"Accuracy: %.2f%%\" % (accuracy * 100.0))\n",
    "logloss = log_loss(id_crossval, predictions_probability)\n",
    "print(\"Logloss: %f\" % (logloss))"
   ]
  },
  {
   "cell_type": "code",
   "execution_count": 11,
   "metadata": {
    "collapsed": false
   },
   "outputs": [
    {
     "data": {
      "text/plain": [
       "array([ 0.5973271])"
      ]
     },
     "execution_count": 11,
     "metadata": {},
     "output_type": "execute_result"
    }
   ],
   "source": [
    "sum(model.predict(x_crossval.as_matrix()))/sum(x_crossval[\"feature1\"].value_counts())"
   ]
  },
  {
   "cell_type": "code",
   "execution_count": 128,
   "metadata": {
    "collapsed": false
   },
   "outputs": [
    {
     "data": {
      "text/html": [
       "<div>\n",
       "<style>\n",
       "    .dataframe thead tr:only-child th {\n",
       "        text-align: right;\n",
       "    }\n",
       "\n",
       "    .dataframe thead th {\n",
       "        text-align: left;\n",
       "    }\n",
       "\n",
       "    .dataframe tbody tr th {\n",
       "        vertical-align: top;\n",
       "    }\n",
       "</style>\n",
       "<table border=\"1\" class=\"dataframe\">\n",
       "  <thead>\n",
       "    <tr style=\"text-align: right;\">\n",
       "      <th></th>\n",
       "      <th>id</th>\n",
       "      <th>probability</th>\n",
       "    </tr>\n",
       "  </thead>\n",
       "  <tbody>\n",
       "    <tr>\n",
       "      <th>0</th>\n",
       "      <td>55113</td>\n",
       "      <td>0.512742</td>\n",
       "    </tr>\n",
       "    <tr>\n",
       "      <th>1</th>\n",
       "      <td>9835</td>\n",
       "      <td>0.505853</td>\n",
       "    </tr>\n",
       "    <tr>\n",
       "      <th>2</th>\n",
       "      <td>150614</td>\n",
       "      <td>0.516292</td>\n",
       "    </tr>\n",
       "    <tr>\n",
       "      <th>3</th>\n",
       "      <td>80064</td>\n",
       "      <td>0.519050</td>\n",
       "    </tr>\n",
       "    <tr>\n",
       "      <th>4</th>\n",
       "      <td>116911</td>\n",
       "      <td>0.501924</td>\n",
       "    </tr>\n",
       "  </tbody>\n",
       "</table>\n",
       "</div>"
      ],
      "text/plain": [
       "       id  probability\n",
       "0   55113     0.512742\n",
       "1    9835     0.505853\n",
       "2  150614     0.516292\n",
       "3   80064     0.519050\n",
       "4  116911     0.501924"
      ]
     },
     "execution_count": 128,
     "metadata": {},
     "output_type": "execute_result"
    }
   ],
   "source": [
    "y_predict = model.predict_proba(x_predict.as_matrix())\n",
    "results = y_predict[:,1]\n",
    "results_df = pd.DataFrame(data={'probability':results})\n",
    "joined = pd.DataFrame(ids).join(results_df)\n",
    "joined.head()"
   ]
  },
  {
   "cell_type": "code",
   "execution_count": 129,
   "metadata": {
    "collapsed": true
   },
   "outputs": [],
   "source": [
    "joined.to_csv(\"predictions2.csv\", index=False)"
   ]
  },
  {
   "cell_type": "markdown",
   "metadata": {},
   "source": [
    "# What else can we tune in the neural network?\n",
    "# Once we have tuned the NN, moved on to XGBoost, to see if we can pick anything out from the features"
   ]
  },
  {
   "cell_type": "code",
   "execution_count": 14,
   "metadata": {
    "collapsed": false
   },
   "outputs": [],
   "source": [
    "from xgboost import XGBClassifier"
   ]
  },
  {
   "cell_type": "code",
   "execution_count": 102,
   "metadata": {
    "collapsed": false
   },
   "outputs": [
    {
     "data": {
      "text/plain": [
       "XGBClassifier(base_score=0.5, colsample_bylevel=1, colsample_bytree=1,\n",
       "       gamma=0, learning_rate=0.1, max_delta_step=0, max_depth=1,\n",
       "       min_child_weight=1, missing=None, n_estimators=100, nthread=-1,\n",
       "       objective='binary:logistic', reg_alpha=0, reg_lambda=1,\n",
       "       scale_pos_weight=1, seed=0, silent=True, subsample=1)"
      ]
     },
     "execution_count": 102,
     "metadata": {},
     "output_type": "execute_result"
    }
   ],
   "source": [
    "gb_model = XGBClassifier(max_depth=1)\n",
    "gb_model.fit(X, Y)"
   ]
  },
  {
   "cell_type": "code",
   "execution_count": 103,
   "metadata": {
    "collapsed": false
   },
   "outputs": [
    {
     "name": "stdout",
     "output_type": "stream",
     "text": [
      "Accuracy: 51.43%\n",
      "Logloss: 0.692569\n"
     ]
    }
   ],
   "source": [
    "predictions = gb_model.predict(x_crossval)\n",
    "predictions_probability = gb_model.predict_proba(x_crossval)\n",
    "accuracy = accuracy_score(id_crossval, predictions)\n",
    "print(\"Accuracy: %.2f%%\" % (accuracy * 100.0))\n",
    "logloss = log_loss(id_crossval, predictions_probability)\n",
    "print(\"Logloss: %f\" % (logloss))"
   ]
  },
  {
   "cell_type": "code",
   "execution_count": 67,
   "metadata": {
    "collapsed": false
   },
   "outputs": [
    {
     "name": "stdout",
     "output_type": "stream",
     "text": [
      "feature1  =  0.0\n",
      "feature2  =  0.0\n",
      "feature3  =  0.02\n",
      "feature4  =  0.02\n",
      "feature5  =  0.05\n",
      "feature6  =  0.07\n",
      "feature7  =  0.1\n",
      "feature8  =  0.0\n",
      "feature9  =  0.02\n",
      "feature10  =  0.13\n",
      "feature11  =  0.01\n",
      "feature12  =  0.09\n",
      "feature13  =  0.0\n",
      "feature14  =  0.0\n",
      "feature15  =  0.09\n",
      "feature16  =  0.1\n",
      "feature17  =  0.01\n",
      "feature18  =  0.0\n",
      "feature19  =  0.12\n",
      "feature20  =  0.1\n",
      "feature21  =  0.07\n"
     ]
    }
   ],
   "source": [
    "for i in range(0, len(gb_model.feature_importances_)):\n",
    "    print(list(X)[i], \" = \", gb_model.feature_importances_[i])"
   ]
  },
  {
   "cell_type": "code",
   "execution_count": 49,
   "metadata": {
    "collapsed": false
   },
   "outputs": [
    {
     "data": {
      "text/plain": [
       "<matplotlib.axes._subplots.AxesSubplot at 0x15a2c978>"
      ]
     },
     "execution_count": 49,
     "metadata": {},
     "output_type": "execute_result"
    },
    {
     "data": {
      "image/png": "[encoded data removed]",
      "text/plain": [
       "<matplotlib.figure.Figure at 0x1558ada0>"
      ]
     },
     "metadata": {},
     "output_type": "display_data"
    }
   ],
   "source": [
    "%matplotlib inline\n",
    "df[\"feature10\"].loc[df[\"target\"] == 0].hist()\n",
    "df[\"feature10\"].loc[df[\"target\"] == 1].hist()"
   ]
  },
  {
   "cell_type": "code",
   "execution_count": 50,
   "metadata": {
    "collapsed": false
   },
   "outputs": [
    {
     "data": {
      "text/plain": [
       "<matplotlib.axes._subplots.AxesSubplot at 0x15ae3940>"
      ]
     },
     "execution_count": 50,
     "metadata": {},
     "output_type": "execute_result"
    },
    {
     "data": {
      "image/png": "[encoded data removed]",
      "text/plain": [
       "<matplotlib.figure.Figure at 0x15b13cf8>"
      ]
     },
     "metadata": {},
     "output_type": "display_data"
    }
   ],
   "source": [
    "df[\"feature19\"].loc[df[\"target\"] == 0].hist()\n",
    "df[\"feature19\"].loc[df[\"target\"] == 1].hist()"
   ]
  },
  {
   "cell_type": "code",
   "execution_count": 119,
   "metadata": {
    "collapsed": false
   },
   "outputs": [
    {
     "name": "stdout",
     "output_type": "stream",
     "text": [
      "Accuracy: 51.55%\n",
      "Logloss: 0.692486\n"
     ]
    }
   ],
   "source": [
    "eng_feature1 = df[\"feature10\"] * df[\"feature19\"]\n",
    "eng_feature1 = pd.DataFrame(data={'eng_feature1':eng_feature1})\n",
    "eng_X = pd.DataFrame(X).join(eng_feature1)\n",
    "\n",
    "gb_model = XGBClassifier(max_depth=1)\n",
    "gb_model.fit(eng_X, Y)\n",
    "\n",
    "eng_feature1 = x_crossval[\"feature10\"] * x_crossval[\"feature19\"]\n",
    "eng_feature1 = pd.DataFrame(data={'eng_feature1':eng_feature1})\n",
    "eng_crossval = pd.DataFrame(x_crossval).join(eng_feature1)\n",
    "\n",
    "predictions = gb_model.predict(eng_crossval)\n",
    "predictions_probability = gb_model.predict_proba(eng_crossval)\n",
    "accuracy = accuracy_score(id_crossval, predictions)\n",
    "print(\"Accuracy: %.2f%%\" % (accuracy * 100.0))\n",
    "logloss = log_loss(id_crossval, predictions_probability)\n",
    "print(\"Logloss: %f\" % (logloss))"
   ]
  },
  {
   "cell_type": "code",
   "execution_count": 120,
   "metadata": {
    "collapsed": false
   },
   "outputs": [
    {
     "name": "stdout",
     "output_type": "stream",
     "text": [
      "feature1  =  0.0\n",
      "feature2  =  0.0\n",
      "feature3  =  0.01\n",
      "feature4  =  0.02\n",
      "feature5  =  0.02\n",
      "feature6  =  0.09\n",
      "feature7  =  0.11\n",
      "feature8  =  0.01\n",
      "feature9  =  0.01\n",
      "feature10  =  0.1\n",
      "feature11  =  0.03\n",
      "feature12  =  0.04\n",
      "feature13  =  0.0\n",
      "feature14  =  0.02\n",
      "feature15  =  0.04\n",
      "feature16  =  0.05\n",
      "feature17  =  0.01\n",
      "feature18  =  0.0\n",
      "feature19  =  0.1\n",
      "feature20  =  0.07\n",
      "feature21  =  0.09\n",
      "eng_feature1  =  0.18\n"
     ]
    }
   ],
   "source": [
    "for i in range(0, len(gb_model.feature_importances_)):\n",
    "    print(list(eng_X)[i], \" = \", gb_model.feature_importances_[i])"
   ]
  },
  {
   "cell_type": "code",
   "execution_count": 124,
   "metadata": {
    "collapsed": false
   },
   "outputs": [
    {
     "name": "stdout",
     "output_type": "stream",
     "text": [
      "Accuracy: 51.58%\n",
      "Logloss: 0.692418\n"
     ]
    }
   ],
   "source": [
    "eng_feature2 = df[\"feature6\"] * df[\"feature21\"]\n",
    "eng_feature2 = pd.DataFrame(data={'eng_feature2':eng_feature2})\n",
    "eng_X_2 = pd.DataFrame(eng_X).join(eng_feature2)\n",
    "\n",
    "gb_model = XGBClassifier(max_depth=1)\n",
    "gb_model.fit(eng_X_2, Y)\n",
    "\n",
    "eng_feature2 = x_crossval[\"feature6\"] * x_crossval[\"feature21\"]\n",
    "eng_feature2 = pd.DataFrame(data={'eng_feature2':eng_feature2})\n",
    "eng_crossval_2 = pd.DataFrame(eng_crossval).join(eng_feature2)\n",
    "\n",
    "predictions = gb_model.predict(eng_crossval_2)\n",
    "predictions_probability = gb_model.predict_proba(eng_crossval_2)\n",
    "accuracy = accuracy_score(id_crossval, predictions)\n",
    "print(\"Accuracy: %.2f%%\" % (accuracy * 100.0))\n",
    "logloss = log_loss(id_crossval, predictions_probability)\n",
    "print(\"Logloss: %f\" % (logloss))"
   ]
  },
  {
   "cell_type": "code",
   "execution_count": 126,
   "metadata": {
    "collapsed": false
   },
   "outputs": [
    {
     "name": "stdout",
     "output_type": "stream",
     "text": [
      "feature1  =  0.0\n",
      "feature2  =  0.0\n",
      "feature3  =  0.01\n",
      "feature4  =  0.04\n",
      "feature5  =  0.03\n",
      "feature6  =  0.03\n",
      "feature7  =  0.1\n",
      "feature8  =  0.01\n",
      "feature9  =  0.02\n",
      "feature10  =  0.07\n",
      "feature11  =  0.01\n",
      "feature12  =  0.04\n",
      "feature13  =  0.0\n",
      "feature14  =  0.02\n",
      "feature15  =  0.04\n",
      "feature16  =  0.05\n",
      "feature17  =  0.01\n",
      "feature18  =  0.0\n",
      "feature19  =  0.09\n",
      "feature20  =  0.09\n",
      "feature21  =  0.08\n",
      "eng_feature1  =  0.13\n",
      "eng_feature2  =  0.13\n"
     ]
    }
   ],
   "source": [
    "for i in range(0, len(gb_model.feature_importances_)):\n",
    "    print(list(eng_X_2)[i], \" = \", gb_model.feature_importances_[i])"
   ]
  },
  {
   "cell_type": "code",
   "execution_count": 131,
   "metadata": {
    "collapsed": true
   },
   "outputs": [],
   "source": [
    "eng_feature1 = x_predict[\"feature10\"] * x_predict[\"feature19\"]\n",
    "eng_feature1 = pd.DataFrame(data={'eng_feature1':eng_feature1})\n",
    "eng_X_predict = pd.DataFrame(x_predict).join(eng_feature1)\n",
    "eng_feature2 = x_predict[\"feature6\"] * x_predict[\"feature21\"]\n",
    "eng_feature2 = pd.DataFrame(data={'eng_feature2':eng_feature2})\n",
    "eng_X_predict = pd.DataFrame(eng_X_predict).join(eng_feature2)\n",
    "\n",
    "\n",
    "y_predict = gb_model.predict_proba(eng_X_predict)\n",
    "results = y_predict[:,1]\n",
    "results_df = pd.DataFrame(data={'probability':results})\n",
    "joined = pd.DataFrame(ids).join(results_df)\n",
    "joined.to_csv(\"predictions3.csv\", index=False)"
   ]
  },
  {
   "cell_type": "markdown",
   "metadata": {},
   "source": [
    "# Create some more features then feed the final df back into the NN. Not sure how I'll be able to achieve concordance..."
   ]
  }
 ],
 "metadata": {
  "kernelspec": {
   "display_name": "Python 3",
   "language": "python",
   "name": "python3"
  },
  "language_info": {
   "codemirror_mode": {
    "name": "ipython",
    "version": 3
   },
   "file_extension": ".py",
   "mimetype": "text/x-python",
   "name": "python",
   "nbconvert_exporter": "python",
   "pygments_lexer": "ipython3",
   "version": "3.5.2"
  }
 },
 "nbformat": 4,
 "nbformat_minor": 2
}
